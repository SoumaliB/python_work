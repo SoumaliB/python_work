{
 "cells": [
  {
   "cell_type": "code",
   "execution_count": 1,
   "id": "01663b97",
   "metadata": {},
   "outputs": [
    {
     "name": "stdout",
     "output_type": "stream",
     "text": [
      "Hello All welcome to the python programmming World\n"
     ]
    }
   ],
   "source": [
    "print(\"Hello All welcome to the python programmming World\")\n"
   ]
  },
  {
   "cell_type": "code",
   "execution_count": 2,
   "id": "a6675639",
   "metadata": {},
   "outputs": [],
   "source": [
    "x=2\n",
    "y=3"
   ]
  },
  {
   "cell_type": "code",
   "execution_count": 3,
   "id": "e6bf3556",
   "metadata": {},
   "outputs": [
    {
     "name": "stdout",
     "output_type": "stream",
     "text": [
      "5\n"
     ]
    }
   ],
   "source": [
    "z=x+y\n",
    "print(z)"
   ]
  },
  {
   "cell_type": "code",
   "execution_count": null,
   "id": "f10c0eb9",
   "metadata": {},
   "outputs": [],
   "source": [
    "#rule no 1:-no namespace while declaring the varibale name."
   ]
  },
  {
   "cell_type": "code",
   "execution_count": 4,
   "id": "964eead7",
   "metadata": {},
   "outputs": [
    {
     "name": "stdout",
     "output_type": "stream",
     "text": [
      "soumali\n"
     ]
    }
   ],
   "source": [
    "firstname='soumali'\n",
    "print(firstname)"
   ]
  },
  {
   "cell_type": "code",
   "execution_count": 5,
   "id": "7162553b",
   "metadata": {},
   "outputs": [
    {
     "ename": "SyntaxError",
     "evalue": "invalid syntax (2121021194.py, line 1)",
     "output_type": "error",
     "traceback": [
      "\u001b[1;36m  Cell \u001b[1;32mIn[5], line 1\u001b[1;36m\u001b[0m\n\u001b[1;33m    first name='soumali'\u001b[0m\n\u001b[1;37m          ^\u001b[0m\n\u001b[1;31mSyntaxError\u001b[0m\u001b[1;31m:\u001b[0m invalid syntax\n"
     ]
    }
   ],
   "source": [
    "first name='soumali'\n",
    "print(first name)"
   ]
  },
  {
   "cell_type": "code",
   "execution_count": 6,
   "id": "f12fe9d9",
   "metadata": {},
   "outputs": [
    {
     "name": "stdout",
     "output_type": "stream",
     "text": [
      "soumali\n"
     ]
    }
   ],
   "source": [
    "first_name='soumali'\n",
    "print(first_name)"
   ]
  },
  {
   "cell_type": "code",
   "execution_count": null,
   "id": "fd354443",
   "metadata": {},
   "outputs": [],
   "source": [
    "#Rule 2:- A  variable name should not start with a number **."
   ]
  },
  {
   "cell_type": "code",
   "execution_count": 7,
   "id": "8c8f1083",
   "metadata": {},
   "outputs": [
    {
     "ename": "SyntaxError",
     "evalue": "invalid decimal literal (1327165608.py, line 1)",
     "output_type": "error",
     "traceback": [
      "\u001b[1;36m  Cell \u001b[1;32mIn[7], line 1\u001b[1;36m\u001b[0m\n\u001b[1;33m    1name='james'\u001b[0m\n\u001b[1;37m    ^\u001b[0m\n\u001b[1;31mSyntaxError\u001b[0m\u001b[1;31m:\u001b[0m invalid decimal literal\n"
     ]
    }
   ],
   "source": [
    "1name='james'\n",
    "print(1name)"
   ]
  },
  {
   "cell_type": "code",
   "execution_count": null,
   "id": "e3ba7f60",
   "metadata": {},
   "outputs": [],
   "source": [
    "except the first position ,you can include the number in the middle or last position"
   ]
  },
  {
   "cell_type": "code",
   "execution_count": 8,
   "id": "c0d56412",
   "metadata": {},
   "outputs": [
    {
     "name": "stdout",
     "output_type": "stream",
     "text": [
      "james\n"
     ]
    }
   ],
   "source": [
    "name1='james'\n",
    "print(name1)"
   ]
  },
  {
   "cell_type": "code",
   "execution_count": null,
   "id": "9e893723",
   "metadata": {},
   "outputs": [],
   "source": [
    "#RULE NO 3:A variable name should not contain any special characters."
   ]
  },
  {
   "cell_type": "code",
   "execution_count": 10,
   "id": "6f519681",
   "metadata": {},
   "outputs": [
    {
     "ename": "SyntaxError",
     "evalue": "invalid syntax (1903408488.py, line 2)",
     "output_type": "error",
     "traceback": [
      "\u001b[1;36m  Cell \u001b[1;32mIn[10], line 2\u001b[1;36m\u001b[0m\n\u001b[1;33m    print(name@)\u001b[0m\n\u001b[1;37m               ^\u001b[0m\n\u001b[1;31mSyntaxError\u001b[0m\u001b[1;31m:\u001b[0m invalid syntax\n"
     ]
    }
   ],
   "source": [
    "name@='soumali'\n",
    "print(name@)"
   ]
  },
  {
   "cell_type": "code",
   "execution_count": null,
   "id": "05cbdaff",
   "metadata": {},
   "outputs": [],
   "source": [
    "#INTRODUCTION TO DATATYPES:-\n",
    "    #1)Strings=====:>str\n",
    "        #2)Number====>integers---->int,float(decimals)==>0.1,0.2===>float\n",
    "        #3)Lists==>list\n",
    "        #4) tupples-->tupple\n",
    "        #5)Dictionaries-->dict"
   ]
  },
  {
   "cell_type": "code",
   "execution_count": null,
   "id": "76cc6b50",
   "metadata": {},
   "outputs": [],
   "source": [
    "classification of datatypes:\n",
    "    broadly data type are classified in two catagories\n",
    "    1) mutable datatypes:-\n",
    "        which we can able to edit/alter==>flexible in nature\n",
    "        2) Inmutable datatypes:which we can not able to edit/alter==>fixed in nature"
   ]
  },
  {
   "cell_type": "code",
   "execution_count": null,
   "id": "c441728f",
   "metadata": {},
   "outputs": [],
   "source": [
    "#Introduction to String datatype:\n",
    "    #defination:-A string is nothing a series of characters declaredin quotes.\n",
    "        #classification:-it is and immutable datatype\n",
    "            \n",
    "            how to define the string===>\n",
    "            \n",
    "            #1) single quote\n",
    "            #2)double quote"
   ]
  },
  {
   "cell_type": "code",
   "execution_count": 11,
   "id": "b6da72a1",
   "metadata": {},
   "outputs": [
    {
     "name": "stdout",
     "output_type": "stream",
     "text": [
      "dhawal\n"
     ]
    }
   ],
   "source": [
    "a='dhawal'\n",
    "print(a)"
   ]
  },
  {
   "cell_type": "code",
   "execution_count": 12,
   "id": "28efc09d",
   "metadata": {},
   "outputs": [
    {
     "name": "stdout",
     "output_type": "stream",
     "text": [
      "parul\n"
     ]
    }
   ],
   "source": [
    "a=\"parul\"\n",
    "print(a)"
   ]
  },
  {
   "cell_type": "code",
   "execution_count": null,
   "id": "0a4aaacf",
   "metadata": {},
   "outputs": [],
   "source": [
    "#depend upon choice whether use single or double quote"
   ]
  },
  {
   "cell_type": "code",
   "execution_count": null,
   "id": "7d67754f",
   "metadata": {},
   "outputs": [],
   "source": []
  }
 ],
 "metadata": {
  "kernelspec": {
   "display_name": "Python 3 (ipykernel)",
   "language": "python",
   "name": "python3"
  },
  "language_info": {
   "codemirror_mode": {
    "name": "ipython",
    "version": 3
   },
   "file_extension": ".py",
   "mimetype": "text/x-python",
   "name": "python",
   "nbconvert_exporter": "python",
   "pygments_lexer": "ipython3",
   "version": "3.10.10"
  }
 },
 "nbformat": 4,
 "nbformat_minor": 5
}
